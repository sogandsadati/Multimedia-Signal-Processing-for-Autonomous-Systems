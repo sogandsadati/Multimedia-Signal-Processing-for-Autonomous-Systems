{
 "cells": [
  {
   "cell_type": "markdown",
   "id": "b232f141-3c76-4d2d-9a5a-692126e13816",
   "metadata": {},
   "source": [
    "# Header1\n",
    "## Header2\n",
    "### Header3\n",
    "text\n",
    "> quoted text\n",
    "\n",
    "*italic*\n",
    "\n",
    "**bold**\n",
    "\n",
    "[Jupyter Lab Website](https://jupyterlab.readthedocs.io/)\n",
    "\n",
    "$$\n",
    "z := \\sum_i^n w_i x_i\n",
    "$$"
   ]
  },
  {
   "cell_type": "markdown",
   "id": "608ef14d-2a5e-42fb-acf3-38dc7f00f34e",
   "metadata": {},
   "source": [
    "some other text"
   ]
  },
  {
   "cell_type": "code",
   "execution_count": 3,
   "id": "4b79d61b-eee0-477b-b20a-9fba9267f1f5",
   "metadata": {},
   "outputs": [
    {
     "name": "stdout",
     "output_type": "stream",
     "text": [
      "Collecting package metadata (current_repodata.json): ...working... done\n",
      "Solving environment: ...working... done\n",
      "\n",
      "# All requested packages already installed.\n",
      "\n"
     ]
    }
   ],
   "source": [
    "!conda install matplotlib"
   ]
  },
  {
   "cell_type": "code",
   "execution_count": 4,
   "id": "d8704d99-55b7-4455-84b5-32a963da2844",
   "metadata": {},
   "outputs": [],
   "source": [
    "%matplotlib inline"
   ]
  },
  {
   "cell_type": "code",
   "execution_count": 8,
   "id": "5a348d9f-88c7-49e5-9149-40de3863137e",
   "metadata": {},
   "outputs": [
    {
     "data": {
      "image/png": "[encoded data removed]",
      "text/plain": [
       "<Figure size 432x288 with 1 Axes>"
      ]
     },
     "metadata": {
      "needs_background": "light"
     },
     "output_type": "display_data"
    }
   ],
   "source": [
    "import matplotlib.pyplot as plt\n",
    "import numpy as np\n",
    "\n",
    "x = np.random.randn(1000000)\n",
    "\n",
    "plt.hist(x)\n",
    "plt.xlabel('values')\n",
    "plt.ylabel('frequency')\n",
    "plt.show()"
   ]
  },
  {
   "cell_type": "code",
   "execution_count": null,
   "id": "e18d5470-b1f3-48d5-9fc4-79dc84ff0ad0",
   "metadata": {},
   "outputs": [],
   "source": []
  }
 ],
 "metadata": {
  "kernelspec": {
   "display_name": "Python 3 (ipykernel)",
   "language": "python",
   "name": "python3"
  },
  "language_info": {
   "codemirror_mode": {
    "name": "ipython",
    "version": 3
   },
   "file_extension": ".py",
   "mimetype": "text/x-python",
   "name": "python",
   "nbconvert_exporter": "python",
   "pygments_lexer": "ipython3",
   "version": "3.9.7"
  }
 },
 "nbformat": 4,
 "nbformat_minor": 5
}
